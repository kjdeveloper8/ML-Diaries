{
 "cells": [
  {
   "cell_type": "markdown",
   "id": "194871a6-808d-4626-a641-d3f3c43034c4",
   "metadata": {},
   "source": [
    "## Pytorch tensors"
   ]
  },
  {
   "cell_type": "code",
   "execution_count": 1,
   "id": "e9920e22-54e2-4227-b037-901605eae4f1",
   "metadata": {},
   "outputs": [],
   "source": [
    "import torch\n",
    "import numpy as np"
   ]
  },
  {
   "cell_type": "code",
   "execution_count": 2,
   "id": "3cc65a33-5a19-4aa9-a6bc-84035aba638b",
   "metadata": {},
   "outputs": [
    {
     "data": {
      "text/plain": [
       "tensor([[1., 2.],\n",
       "        [3., 4.]])"
      ]
     },
     "execution_count": 2,
     "metadata": {},
     "output_type": "execute_result"
    }
   ],
   "source": [
    "t = torch.Tensor([[1, 2],[3, 4]])\n",
    "t"
   ]
  },
  {
   "cell_type": "code",
   "execution_count": 3,
   "id": "f3de79fc-eef3-454e-9b3e-58d49d28a6bc",
   "metadata": {},
   "outputs": [
    {
     "data": {
      "text/plain": [
       "tensor([[1, 2],\n",
       "        [3, 4]])"
      ]
     },
     "execution_count": 3,
     "metadata": {},
     "output_type": "execute_result"
    }
   ],
   "source": [
    "# from numpy\n",
    "numpy_array = np.array([[1, 2], [3, 4]])\n",
    "t = torch.from_numpy(numpy_array)\n",
    "t"
   ]
  },
  {
   "cell_type": "code",
   "execution_count": 4,
   "id": "1cf47043-a911-4ef5-b7d7-a46121376c51",
   "metadata": {},
   "outputs": [
    {
     "name": "stdout",
     "output_type": "stream",
     "text": [
      "tensor_zeros_34=tensor([[0., 0., 0., 0.],\n",
      "        [0., 0., 0., 0.],\n",
      "        [0., 0., 0., 0.]])\n",
      "tensor_zeros_22=tensor([[0., 0.],\n",
      "        [0., 0.]])\n"
     ]
    }
   ],
   "source": [
    "# tensor of 0s\n",
    "shape = (3, 4)\n",
    "tensor_zeros_34 = torch.zeros(size=shape) # 3x4\n",
    "print(f\"{tensor_zeros_34=}\")\n",
    "\n",
    "tensor = torch.Tensor([[1, 2], [3, 4]])\n",
    "tensor_zeros_22 = torch.zeros_like(tensor) # 2x2\n",
    "print(f\"{tensor_zeros_22=}\")"
   ]
  },
  {
   "cell_type": "code",
   "execution_count": 6,
   "id": "beaf2281-c262-4e7d-9ed6-ef80e9cc51e9",
   "metadata": {},
   "outputs": [
    {
     "name": "stdout",
     "output_type": "stream",
     "text": [
      "tensor_ones_34=tensor([[1., 1., 1., 1.],\n",
      "        [1., 1., 1., 1.],\n",
      "        [1., 1., 1., 1.]])\n",
      "tensor_ones_22=tensor([[1., 1.],\n",
      "        [1., 1.]])\n"
     ]
    }
   ],
   "source": [
    "# tensor of 1s\n",
    "shape = (3, 4)\n",
    "tensor_ones_34 = torch.ones(size=shape) # 3x4\n",
    "print(f\"{tensor_ones_34=}\")\n",
    "\n",
    "tensor = torch.Tensor([[1, 2], [3, 4]])\n",
    "tensor_ones_22 = torch.ones_like(tensor) # 2x2\n",
    "print(f\"{tensor_ones_22=}\")"
   ]
  },
  {
   "cell_type": "code",
   "execution_count": 8,
   "id": "066dce2e-dd42-45a6-8a2f-6777db54d52b",
   "metadata": {},
   "outputs": [
    {
     "name": "stdout",
     "output_type": "stream",
     "text": [
      "tensor([[-1.2431,  0.8008,  2.2092, -0.9773],\n",
      "        [ 0.2409, -0.2553, -0.8382,  1.9927],\n",
      "        [ 0.0478,  1.9949,  0.1539, -1.6333]])\n",
      "tensor([[ 1.7968, -1.7657],\n",
      "        [ 0.6264,  0.5306]])\n"
     ]
    }
   ],
   "source": [
    "# random tensors\n",
    "\n",
    "# 3x4 tensor where each component follows normal distribution with mean 0 and standard deviation 1\n",
    "tensor_random_normal_1 = torch.randn(size=shape) \n",
    "tensor_random_normal_2 = torch.randn_like(tensor) \n",
    "\n",
    "print(tensor_random_normal_1)\n",
    "print(tensor_random_normal_2)"
   ]
  },
  {
   "cell_type": "code",
   "execution_count": 9,
   "id": "06766bb9-1898-4497-8bbf-53bec504763d",
   "metadata": {},
   "outputs": [
    {
     "name": "stdout",
     "output_type": "stream",
     "text": [
      "tensor([[0.0438, 0.7438, 0.7416, 0.9187],\n",
      "        [0.0231, 0.9466, 0.8844, 0.8370],\n",
      "        [0.2552, 0.1690, 0.8853, 0.6158]])\n",
      "tensor([[0.4238, 0.1675],\n",
      "        [0.6845, 0.7957]])\n"
     ]
    }
   ],
   "source": [
    "# 3x4 tensor following uniform distribution between 0 and 1\n",
    "tensor_random_uniform_1 = torch.rand(size=shape)\n",
    "tensor_random_uniform_2 = torch.rand_like(tensor)\n",
    "\n",
    "print(tensor_random_uniform_1)\n",
    "print(tensor_random_uniform_2)"
   ]
  },
  {
   "cell_type": "code",
   "execution_count": 10,
   "id": "944331bf-fe06-4698-b04b-aac003d9c502",
   "metadata": {},
   "outputs": [
    {
     "data": {
      "text/plain": [
       "tensor([[6., 7.],\n",
       "        [8., 9.]])"
      ]
     },
     "execution_count": 10,
     "metadata": {},
     "output_type": "execute_result"
    }
   ],
   "source": [
    "# add\n",
    "tensor + 5"
   ]
  },
  {
   "cell_type": "code",
   "execution_count": 11,
   "id": "13c98229-1cf6-4490-9278-4c43dc6292d2",
   "metadata": {},
   "outputs": [
    {
     "data": {
      "text/plain": [
       "tensor([[2., 4.],\n",
       "        [6., 8.]])"
      ]
     },
     "execution_count": 11,
     "metadata": {},
     "output_type": "execute_result"
    }
   ],
   "source": [
    "# mul\n",
    "tensor * 2"
   ]
  },
  {
   "cell_type": "code",
   "execution_count": 12,
   "id": "2d42774f-aa23-411f-a3d3-51d853d34de6",
   "metadata": {},
   "outputs": [
    {
     "data": {
      "text/plain": [
       "tensor([[0., 0.],\n",
       "        [2., 2.]])"
      ]
     },
     "execution_count": 12,
     "metadata": {},
     "output_type": "execute_result"
    }
   ],
   "source": [
    "t1 = torch.Tensor([[1, 2], [3, 4]])\n",
    "t2 = torch.Tensor([1, 2])\n",
    "\n",
    "t1 - t2"
   ]
  },
  {
   "cell_type": "code",
   "execution_count": 13,
   "id": "7f6de534-89ca-4c56-9f9c-96b6c17466b3",
   "metadata": {},
   "outputs": [
    {
     "data": {
      "text/plain": [
       "tensor([[2., 4.],\n",
       "        [4., 6.]])"
      ]
     },
     "execution_count": 13,
     "metadata": {},
     "output_type": "execute_result"
    }
   ],
   "source": [
    "t1 + t2"
   ]
  },
  {
   "cell_type": "code",
   "execution_count": 14,
   "id": "2c195395-146c-4f3c-879a-fb2ec41194d5",
   "metadata": {},
   "outputs": [
    {
     "data": {
      "text/plain": [
       "tensor([[1., 4.],\n",
       "        [3., 8.]])"
      ]
     },
     "execution_count": 14,
     "metadata": {},
     "output_type": "execute_result"
    }
   ],
   "source": [
    "t1 * t2"
   ]
  },
  {
   "cell_type": "code",
   "execution_count": 26,
   "id": "d5ed931a-b283-479e-b0df-3ef432e51061",
   "metadata": {},
   "outputs": [
    {
     "data": {
      "text/plain": [
       "tensor([[ 2.7183,  7.3891],\n",
       "        [20.0855, 54.5982]])"
      ]
     },
     "execution_count": 26,
     "metadata": {},
     "output_type": "execute_result"
    }
   ],
   "source": [
    "torch.exp(tensor)"
   ]
  },
  {
   "cell_type": "code",
   "execution_count": 27,
   "id": "90156366-6faf-4202-b36e-cdcba1273b76",
   "metadata": {},
   "outputs": [
    {
     "data": {
      "text/plain": [
       "tensor([[0.0000, 0.6931],\n",
       "        [1.0986, 1.3863]])"
      ]
     },
     "execution_count": 27,
     "metadata": {},
     "output_type": "execute_result"
    }
   ],
   "source": [
    "torch.log(tensor)"
   ]
  },
  {
   "cell_type": "code",
   "execution_count": 28,
   "id": "d228d962-09fb-46c6-a4e4-438ff4bb4a6c",
   "metadata": {},
   "outputs": [
    {
     "data": {
      "text/plain": [
       "tensor(1.)"
      ]
     },
     "execution_count": 28,
     "metadata": {},
     "output_type": "execute_result"
    }
   ],
   "source": [
    "torch.min(tensor)"
   ]
  },
  {
   "cell_type": "code",
   "execution_count": 29,
   "id": "4f0f4c2f-881f-4735-8791-e0fbc7871b6e",
   "metadata": {},
   "outputs": [
    {
     "data": {
      "text/plain": [
       "tensor(4.)"
      ]
     },
     "execution_count": 29,
     "metadata": {},
     "output_type": "execute_result"
    }
   ],
   "source": [
    "torch.max(tensor)"
   ]
  },
  {
   "cell_type": "code",
   "execution_count": 30,
   "id": "66cce83c-4b75-467e-a715-4b3ef5192d71",
   "metadata": {},
   "outputs": [
    {
     "data": {
      "text/plain": [
       "tensor(2.5000)"
      ]
     },
     "execution_count": 30,
     "metadata": {},
     "output_type": "execute_result"
    }
   ],
   "source": [
    "torch.mean(tensor)"
   ]
  },
  {
   "cell_type": "code",
   "execution_count": 31,
   "id": "0a3edf3d-f949-4634-91df-26194b24bd5d",
   "metadata": {},
   "outputs": [
    {
     "name": "stdout",
     "output_type": "stream",
     "text": [
      "tensor([3., 4.])\n",
      "\n",
      "tensor([1.5000, 3.5000, 5.5000])\n"
     ]
    }
   ],
   "source": [
    "tensor = torch.Tensor([[1, 2], [3, 4], [5, 6]])  # 3x2\n",
    "\n",
    "mean_row = torch.mean(tensor, dim=0)  # shape = (2,) over 1st dimension (columns)\n",
    "mean_col = torch.mean(tensor, dim=1)  # shape = (3,) over 2nd dimension (rows)\n",
    "\n",
    "print(mean_row)\n",
    "print()\n",
    "print(mean_col)"
   ]
  },
  {
   "cell_type": "code",
   "execution_count": 32,
   "id": "cc291411-3d55-408c-926f-b550f12cddc0",
   "metadata": {},
   "outputs": [
    {
     "data": {
      "text/plain": [
       "tensor([[0.7311, 0.8808],\n",
       "        [0.9526, 0.9820],\n",
       "        [0.9933, 0.9975]])"
      ]
     },
     "execution_count": 32,
     "metadata": {},
     "output_type": "execute_result"
    }
   ],
   "source": [
    "# logistic function\n",
    "l = 1 / (1 + torch.exp(-1 * tensor))\n",
    "l"
   ]
  },
  {
   "cell_type": "code",
   "execution_count": 33,
   "id": "40fdaa11-8e7c-46a0-b1f4-948fa109f821",
   "metadata": {},
   "outputs": [
    {
     "name": "stdout",
     "output_type": "stream",
     "text": [
      "<class 'torch.Tensor'>\n",
      "3.5 <class 'float'>\n"
     ]
    }
   ],
   "source": [
    "print(type(tensor.mean()))\n",
    "\n",
    "# converting to python scalar \n",
    "mean_item = tensor.mean().item()\n",
    "print(mean_item,  type(mean_item))"
   ]
  },
  {
   "cell_type": "code",
   "execution_count": 34,
   "id": "b21255f6-35ee-4849-9bed-3dab5d11d5a4",
   "metadata": {},
   "outputs": [
    {
     "data": {
      "text/plain": [
       "torch.Size([3, 2])"
      ]
     },
     "execution_count": 34,
     "metadata": {},
     "output_type": "execute_result"
    }
   ],
   "source": [
    "tensor.size()"
   ]
  },
  {
   "cell_type": "code",
   "execution_count": 35,
   "id": "da158c7a-fc98-4633-a9d0-5ac4727e562d",
   "metadata": {},
   "outputs": [
    {
     "data": {
      "text/plain": [
       "torch.Size([3, 2])"
      ]
     },
     "execution_count": 35,
     "metadata": {},
     "output_type": "execute_result"
    }
   ],
   "source": [
    "tensor.shape"
   ]
  },
  {
   "cell_type": "code",
   "execution_count": 36,
   "id": "fd54a96f-6e57-4b4c-99e2-186028adb54d",
   "metadata": {},
   "outputs": [
    {
     "data": {
      "text/plain": [
       "tensor([[1., 2., 3.],\n",
       "        [4., 5., 6.]])"
      ]
     },
     "execution_count": 36,
     "metadata": {},
     "output_type": "execute_result"
    }
   ],
   "source": [
    "tensor.view(2, 3) # 2x3"
   ]
  },
  {
   "cell_type": "code",
   "execution_count": 37,
   "id": "454b69e4-b76a-4649-b526-0b437e0a885d",
   "metadata": {},
   "outputs": [
    {
     "data": {
      "text/plain": [
       "tensor([1., 2., 3., 4., 5., 6.])"
      ]
     },
     "execution_count": 37,
     "metadata": {},
     "output_type": "execute_result"
    }
   ],
   "source": [
    "tensor.view(6) "
   ]
  },
  {
   "cell_type": "code",
   "execution_count": 38,
   "id": "84a3c2a5-4183-4a59-a5f9-f670366a4028",
   "metadata": {},
   "outputs": [
    {
     "data": {
      "text/plain": [
       "tensor([[[1.],\n",
       "         [2.],\n",
       "         [3.],\n",
       "         [4.],\n",
       "         [5.],\n",
       "         [6.]]])"
      ]
     },
     "execution_count": 38,
     "metadata": {},
     "output_type": "execute_result"
    }
   ],
   "source": [
    "tensor.view(1, 6, 1)"
   ]
  },
  {
   "cell_type": "code",
   "execution_count": 39,
   "id": "4f60676e-a78d-4bb8-89a5-fd59f0cfd5d7",
   "metadata": {},
   "outputs": [
    {
     "data": {
      "text/plain": [
       "tensor([[1., 2., 3.],\n",
       "        [4., 5., 6.]])"
      ]
     },
     "execution_count": 39,
     "metadata": {},
     "output_type": "execute_result"
    }
   ],
   "source": [
    "tensor.view(-1, 3) # (-1, 3) = (2, 3)"
   ]
  },
  {
   "cell_type": "code",
   "execution_count": 41,
   "id": "ab5fa9ec-0b68-44bb-97f7-c63017861252",
   "metadata": {},
   "outputs": [
    {
     "name": "stdout",
     "output_type": "stream",
     "text": [
      "tensor([[9., 2.],\n",
      "        [3., 4.],\n",
      "        [5., 6.]])\n",
      "\n",
      "tensor([[9., 2., 3.],\n",
      "        [4., 5., 6.]])\n",
      "\n",
      "tensor([[9., 2.],\n",
      "        [3., 4.],\n",
      "        [5., 6.]])\n"
     ]
    }
   ],
   "source": [
    "print(tensor) # original\n",
    "print()\n",
    "tensor_2 = tensor.view(2, 3)\n",
    "# view() produces a shallow copy of the tensor (reshaped). \n",
    "# so changing any of the elements in the view, \n",
    "# will also update the value in the original tensor.\n",
    "tensor_2[0, 0] = 9\n",
    "\n",
    "print(tensor_2)\n",
    "print()\n",
    "print(tensor)"
   ]
  },
  {
   "cell_type": "code",
   "execution_count": 55,
   "id": "395f7905-5968-4680-9ad0-f28d99559190",
   "metadata": {},
   "outputs": [
    {
     "name": "stdout",
     "output_type": "stream",
     "text": [
      "tensor([[ 2.5167,  0.2614, -1.4637, -0.1772],\n",
      "        [-1.4461, -0.9934,  0.2219, -0.4414],\n",
      "        [-0.2583,  1.0648,  0.3896,  1.0399]])\n",
      "torch.Size([3, 4])\n"
     ]
    }
   ],
   "source": [
    "# concate\n",
    "t1 = torch.randn(size=(1, 4))\n",
    "t2 = torch.randn(size=(2, 4))\n",
    "c = torch.cat(tensors=(t1, t2), dim=0)\n",
    "print(c)\n",
    "print(c.shape)"
   ]
  },
  {
   "cell_type": "code",
   "execution_count": 54,
   "id": "c96a6958-256b-47bc-b3b1-ba0dd5ef9017",
   "metadata": {},
   "outputs": [
    {
     "name": "stdout",
     "output_type": "stream",
     "text": [
      "tensor([[-1.4622,  1.6262,  1.0716, -0.2890,  0.2489,  0.5327],\n",
      "        [ 0.5317,  0.3702, -0.8099,  0.6519, -0.2694, -0.2961],\n",
      "        [-0.6904, -0.3192,  0.4642, -0.4340, -0.3126, -2.8074]])\n",
      "\n",
      "torch.Size([3, 6])\n"
     ]
    }
   ],
   "source": [
    "t1 = torch.randn(size=(3, 1))\n",
    "t2 = torch.randn(size=(3, 5))\n",
    "con = torch.cat(tensors=(t1, t2), dim=1)\n",
    "print(con)\n",
    "print()\n",
    "print(con.shape)"
   ]
  },
  {
   "cell_type": "code",
   "execution_count": 56,
   "id": "1733a2c7-e215-4868-b8b4-a5c414cb26a7",
   "metadata": {},
   "outputs": [
    {
     "data": {
      "text/plain": [
       "tensor([[-0.0387, -0.0845, -0.8049, -0.0037],\n",
       "        [-0.1500, -0.0360, -0.2906, -0.0605],\n",
       "        [-1.4079, -0.6107, -0.8153, -0.9418]])"
      ]
     },
     "execution_count": 56,
     "metadata": {},
     "output_type": "execute_result"
    }
   ],
   "source": [
    "t = torch.randn(size=(3, 4))\n",
    "t"
   ]
  },
  {
   "cell_type": "code",
   "execution_count": 63,
   "id": "cf66d407-d49f-45a5-a60c-bf231b1a073e",
   "metadata": {},
   "outputs": [
    {
     "data": {
      "text/plain": [
       "tensor([-0.1500, -0.0360, -0.2906, -0.0605])"
      ]
     },
     "execution_count": 63,
     "metadata": {},
     "output_type": "execute_result"
    }
   ],
   "source": [
    "# get second line\n",
    "t[1, :] # row"
   ]
  },
  {
   "cell_type": "code",
   "execution_count": 64,
   "id": "36397ed9-7dec-485c-b635-670a7f10c79f",
   "metadata": {},
   "outputs": [
    {
     "data": {
      "text/plain": [
       "tensor([-0.0845, -0.0360, -0.6107])"
      ]
     },
     "execution_count": 64,
     "metadata": {},
     "output_type": "execute_result"
    }
   ],
   "source": [
    "# get 2 col\n",
    "t[:, 1] # col"
   ]
  },
  {
   "cell_type": "code",
   "execution_count": 65,
   "id": "2aaf6fcf-99c0-4a64-9cf0-4b019464419c",
   "metadata": {},
   "outputs": [
    {
     "data": {
      "text/plain": [
       "tensor([[-0.0845, -0.8049],\n",
       "        [-0.0360, -0.2906],\n",
       "        [-0.6107, -0.8153]])"
      ]
     },
     "execution_count": 65,
     "metadata": {},
     "output_type": "execute_result"
    }
   ],
   "source": [
    "# get 2 and 3 col\n",
    "t[:, 1:3]"
   ]
  },
  {
   "cell_type": "code",
   "execution_count": 66,
   "id": "9e917263-1f0c-4533-ae67-7e19eefb333a",
   "metadata": {},
   "outputs": [
    {
     "data": {
      "text/plain": [
       "tensor([[-0.1500, -0.0360, -0.2906, -0.0605]])"
      ]
     },
     "execution_count": 66,
     "metadata": {},
     "output_type": "execute_result"
    }
   ],
   "source": [
    "t[1:2,:]"
   ]
  },
  {
   "cell_type": "code",
   "execution_count": 67,
   "id": "145fc0e3-f6a5-4b7e-a9a8-69ab3d4d7701",
   "metadata": {},
   "outputs": [
    {
     "data": {
      "text/plain": [
       "tensor([[-0.2906]])"
      ]
     },
     "execution_count": 67,
     "metadata": {},
     "output_type": "execute_result"
    }
   ],
   "source": [
    "t[1:2, 2:3]"
   ]
  },
  {
   "cell_type": "code",
   "execution_count": null,
   "id": "8506eb9c-71ea-4bfd-b71c-731afd566ca2",
   "metadata": {},
   "outputs": [],
   "source": []
  }
 ],
 "metadata": {
  "kernelspec": {
   "display_name": "Python 3 (ipykernel)",
   "language": "python",
   "name": "python3"
  },
  "language_info": {
   "codemirror_mode": {
    "name": "ipython",
    "version": 3
   },
   "file_extension": ".py",
   "mimetype": "text/x-python",
   "name": "python",
   "nbconvert_exporter": "python",
   "pygments_lexer": "ipython3",
   "version": "3.12.3"
  }
 },
 "nbformat": 4,
 "nbformat_minor": 5
}
