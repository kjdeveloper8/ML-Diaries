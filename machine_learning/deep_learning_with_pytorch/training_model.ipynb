{
 "cells": [
  {
   "cell_type": "markdown",
   "id": "83cadf25-e55e-4bd6-b915-912d29078939",
   "metadata": {},
   "source": [
    "## Pytorch training module"
   ]
  },
  {
   "cell_type": "code",
   "execution_count": 1,
   "id": "e9c88044-759f-41f1-a08a-a9736d1243e0",
   "metadata": {},
   "outputs": [],
   "source": [
    "import torch\n",
    "import torch.nn as nn\n",
    "import torch.nn.functional as F"
   ]
  },
  {
   "cell_type": "code",
   "execution_count": 2,
   "id": "4047e804-4c4e-4189-bfdd-bcaeabf3c6a4",
   "metadata": {},
   "outputs": [],
   "source": [
    "# __init__ : define all module parameters\n",
    "# forward() : returns the output of the model.\n",
    "\n",
    "class model_number(nn.Module):\n",
    "    def __init__(self):\n",
    "        super().__init__()\n",
    "        initial_theta_0 = torch.Tensor([1])\n",
    "        initial_theta_1 = torch.Tensor([2])\n",
    "        self.theta_0 = torch.nn.Parameter(initial_theta_0)\n",
    "        self.theta_1 = torch.nn.Parameter(initial_theta_1)\n",
    "\n",
    "    def forward(self, tensor_number_tasks):\n",
    "        return self.theta_1 * tensor_number_tasks + self.theta_0"
   ]
  },
  {
   "cell_type": "code",
   "execution_count": 4,
   "id": "3bc3768a-e142-4107-b980-9385932ff833",
   "metadata": {},
   "outputs": [],
   "source": [
    "net = model_number()"
   ]
  },
  {
   "cell_type": "code",
   "execution_count": 5,
   "id": "0d80e799-ccae-4527-8d85-076cf6ca5485",
   "metadata": {},
   "outputs": [
    {
     "data": {
      "text/plain": [
       "[Parameter containing:\n",
       " tensor([1.], requires_grad=True),\n",
       " Parameter containing:\n",
       " tensor([2.], requires_grad=True)]"
      ]
     },
     "execution_count": 5,
     "metadata": {},
     "output_type": "execute_result"
    }
   ],
   "source": [
    "list(net.parameters())"
   ]
  },
  {
   "cell_type": "code",
   "execution_count": 6,
   "id": "133d06fd-17b4-4be1-941a-e53a2c90406c",
   "metadata": {},
   "outputs": [
    {
     "data": {
      "text/plain": [
       "[('theta_0',\n",
       "  Parameter containing:\n",
       "  tensor([1.], requires_grad=True)),\n",
       " ('theta_1',\n",
       "  Parameter containing:\n",
       "  tensor([2.], requires_grad=True))]"
      ]
     },
     "execution_count": 6,
     "metadata": {},
     "output_type": "execute_result"
    }
   ],
   "source": [
    "list(net.named_parameters())"
   ]
  },
  {
   "cell_type": "code",
   "execution_count": 7,
   "id": "dc164893-f9a9-4563-b108-04a997042f5f",
   "metadata": {},
   "outputs": [
    {
     "data": {
      "text/plain": [
       "tensor([3.])"
      ]
     },
     "execution_count": 7,
     "metadata": {},
     "output_type": "execute_result"
    }
   ],
   "source": [
    "tensor_number_tasks = torch.Tensor([3])\n",
    "tensor_number_tasks"
   ]
  },
  {
   "cell_type": "code",
   "execution_count": 8,
   "id": "cbd42608-a042-4a09-bf47-532a9c55231a",
   "metadata": {},
   "outputs": [
    {
     "data": {
      "text/plain": [
       "tensor([7.], grad_fn=<AddBackward0>)"
      ]
     },
     "execution_count": 8,
     "metadata": {},
     "output_type": "execute_result"
    }
   ],
   "source": [
    "net(tensor_number_tasks) # same as net.forward(tensor_number_tasks)"
   ]
  },
  {
   "cell_type": "markdown",
   "id": "20a330ee-99d0-4fe3-ab5c-a499d5af6e5f",
   "metadata": {},
   "source": [
    "- Train linear regression with this model"
   ]
  },
  {
   "cell_type": "code",
   "execution_count": 9,
   "id": "07316036-ea67-450a-a325-57d52de796f4",
   "metadata": {},
   "outputs": [],
   "source": [
    "# loss function\n",
    "def compute_loss(list_number_tasks, list_number_questions, model_number_questions):\n",
    "    mse_loss = torch.Tensor([0])\n",
    "\n",
    "    for number_tasks, number_questions in zip(list_number_tasks, list_number_questions):\n",
    "        # squared error for (number_tasks, number_questions)\n",
    "        tensor_number_tasks = torch.Tensor([number_tasks])\n",
    "        estimator_number_questions = model_number_questions(tensor_number_tasks)\n",
    "\n",
    "        error = estimator_number_questions - number_questions\n",
    "        squared_error = error * error\n",
    "\n",
    "        mse_loss += squared_error     # adding computed error to the loss\n",
    "\n",
    "    mse_loss /= len(list_number_tasks)  \n",
    "\n",
    "    return mse_loss"
   ]
  },
  {
   "cell_type": "code",
   "execution_count": 10,
   "id": "ed2144b3-cc32-4696-89a2-5ef30ade30d3",
   "metadata": {},
   "outputs": [],
   "source": [
    "# train\n",
    "def train_linear_regression(list_number_tasks, \n",
    "                            list_number_questions, \n",
    "                            learning_rate=0.02, \n",
    "                            number_training_steps=100):\n",
    "\n",
    "    net = model_number()\n",
    "\n",
    "    optimiser = torch.optim.SGD(net.parameters(), lr=learning_rate)\n",
    "\n",
    "    for _ in range(number_training_steps):\n",
    "        optimiser.zero_grad()\n",
    "        mse_loss = compute_loss(list_number_tasks, list_number_questions, model_number_questions=net)\n",
    "        mse_loss.backward() \n",
    "        optimiser.step()\n",
    "\n",
    "        print(\"loss --> \", mse_loss.item())\n",
    "\n",
    "    print(\"Final Parameters --> \", list(net.named_parameters()))\n",
    "\n",
    "    return net"
   ]
  },
  {
   "cell_type": "code",
   "execution_count": 11,
   "id": "b5e92984-be50-485b-af2b-70dc50a3ea2f",
   "metadata": {},
   "outputs": [],
   "source": [
    "list_number_tasks = torch.Tensor([[1.], [2.], [4.], [4.], [5.], [6.], [6.], [6.], [8.], [8.], [9.], [10.]])\n",
    "list_number_questions = torch.Tensor([[5.], [11.], [21.], [22.], [26.], [31.], [32.], [31.], [41.], [42.], [48.], [52.]])"
   ]
  },
  {
   "cell_type": "code",
   "execution_count": 12,
   "id": "552e2d91-6f9d-4954-9bcd-a9e18a34d6f9",
   "metadata": {},
   "outputs": [
    {
     "name": "stdout",
     "output_type": "stream",
     "text": [
      "loss -->  382.5\n",
      "loss -->  152.1065673828125\n",
      "loss -->  60.67946243286133\n",
      "loss -->  24.397375106811523\n",
      "loss -->  9.99804973602295\n",
      "loss -->  4.282337665557861\n",
      "loss -->  2.0124921798706055\n",
      "loss -->  1.1100648641586304\n",
      "loss -->  0.7502853870391846\n",
      "loss -->  0.6058599948883057\n",
      "Final Parameters -->  [('theta_0', Parameter containing:\n",
      "tensor([1.3584], requires_grad=True)), ('theta_1', Parameter containing:\n",
      "tensor([5.0112], requires_grad=True))]\n"
     ]
    }
   ],
   "source": [
    "res = train_linear_regression(list_number_tasks=list_number_tasks,\n",
    "                             list_number_questions=list_number_questions,\n",
    "                             learning_rate=0.02,\n",
    "                             number_training_steps=10)"
   ]
  },
  {
   "cell_type": "markdown",
   "id": "57cffe00-3ae2-4ef4-bc3d-be87ae913c7f",
   "metadata": {},
   "source": [
    "- With linear operation in pytorch\n",
    "  "
   ]
  },
  {
   "cell_type": "code",
   "execution_count": 13,
   "id": "be148d37-1f74-4e3a-aa49-80a43c18940d",
   "metadata": {},
   "outputs": [],
   "source": [
    "# toch.nn.Linear\n",
    "# in_features: Number of features as input to the linear operation. \n",
    "# out_features: Number of features as outputted by the linear operation."
   ]
  },
  {
   "cell_type": "code",
   "execution_count": 16,
   "id": "e2495aca-65c1-481f-aa77-bc6c4e60dfe7",
   "metadata": {},
   "outputs": [],
   "source": [
    "class model_feature(nn.Module):\n",
    "    def __init__(self):\n",
    "        super().__init__()\n",
    "        # self.linear is automatically initialised\n",
    "        self.linear = torch.nn.Linear(in_features=1,\n",
    "                                      out_features=1)\n",
    "\n",
    "    def forward(self, tensor_number_tasks):\n",
    "        return self.linear(tensor_number_tasks)"
   ]
  },
  {
   "cell_type": "code",
   "execution_count": 18,
   "id": "5ced5e92-1997-48b0-92b7-91ae3077a2a4",
   "metadata": {},
   "outputs": [
    {
     "data": {
      "text/plain": [
       "[('linear.weight',\n",
       "  Parameter containing:\n",
       "  tensor([[-0.2497]], requires_grad=True)),\n",
       " ('linear.bias',\n",
       "  Parameter containing:\n",
       "  tensor([-0.8738], requires_grad=True))]"
      ]
     },
     "execution_count": 18,
     "metadata": {},
     "output_type": "execute_result"
    }
   ],
   "source": [
    "net_model = model_feature()\n",
    "list(net_model.named_parameters())"
   ]
  },
  {
   "cell_type": "markdown",
   "id": "228c4646-0c3a-41ce-be83-df7edec617ac",
   "metadata": {},
   "source": [
    "- TRAIN model with optimizer, loss function and linear operations"
   ]
  },
  {
   "cell_type": "code",
   "execution_count": 19,
   "id": "9343e3ab-e39d-4703-8152-b833754d5d13",
   "metadata": {},
   "outputs": [],
   "source": [
    "def linear_regression(tensor_number_tasks,\n",
    "                      tensor_number_questions,\n",
    "                      lr=0.02,\n",
    "                      training_steps=200):\n",
    "\n",
    "    net = model_feature()  \n",
    "    loss = torch.nn.MSELoss()  \n",
    "\n",
    "    optimiser = torch.optim.SGD(net.parameters(), lr=lr)\n",
    "\n",
    "    for _ in range(training_steps):\n",
    "        optimiser.zero_grad()\n",
    "        estimator_number_questions = net(tensor_number_tasks)  # net.forward\n",
    "        mse_loss = loss(input=estimator_number_questions,      # loss.forward\n",
    "                        target=tensor_number_questions)\n",
    "        mse_loss.backward()\n",
    "        optimiser.step()\n",
    "        print(\"loss --> \", mse_loss.item())\n",
    "\n",
    "    print(\"Parameters --> \", list(net.named_parameters()))\n",
    "    return net"
   ]
  },
  {
   "cell_type": "code",
   "execution_count": 20,
   "id": "43eddfd5-9b37-4b5e-81fc-b19cf90c7d93",
   "metadata": {},
   "outputs": [
    {
     "name": "stdout",
     "output_type": "stream",
     "text": [
      "tensor([[ 5.],\n",
      "        [11.],\n",
      "        [21.],\n",
      "        [22.],\n",
      "        [26.],\n",
      "        [31.],\n",
      "        [32.],\n",
      "        [31.],\n",
      "        [41.],\n",
      "        [42.],\n",
      "        [48.],\n",
      "        [52.]])\n",
      "loss -->  1091.7763671875\n",
      "loss -->  433.4320373535156\n",
      "loss -->  172.1862335205078\n",
      "loss -->  68.51801300048828\n",
      "loss -->  27.380075454711914\n",
      "loss -->  11.055561065673828\n",
      "loss -->  4.577579498291016\n",
      "loss -->  2.0069143772125244\n",
      "loss -->  0.9867621064186096\n",
      "loss -->  0.5818875432014465\n",
      "Parameters -->  [('linear.weight', Parameter containing:\n",
      "tensor([[5.1187]], requires_grad=True)), ('linear.bias', Parameter containing:\n",
      "tensor([0.4701], requires_grad=True))]\n"
     ]
    },
    {
     "data": {
      "text/plain": [
       "model_feature(\n",
       "  (linear): Linear(in_features=1, out_features=1, bias=True)\n",
       ")"
      ]
     },
     "execution_count": 20,
     "metadata": {},
     "output_type": "execute_result"
    }
   ],
   "source": [
    "# main()\n",
    "tasks = [1, 2, 4, 4, 5, 6, 6, 6, 8, 8, 9, 10]\n",
    "questions = [5, 11, 21, 22, 26, 31, 32, 31, 41, 42, 48, 52]\n",
    "\n",
    "tensor_tasks = torch.Tensor(tasks).view(-1, 1)\n",
    "tensor_questions = torch.Tensor(questions).view(-1, 1)\n",
    "print(tensor_questions)\n",
    "linear_regression(tensor_tasks, tensor_questions, lr=0.02, training_steps=10)"
   ]
  },
  {
   "cell_type": "code",
   "execution_count": null,
   "id": "86a0e6e7-1ba1-435f-ae2b-7dd5f9256ae1",
   "metadata": {},
   "outputs": [],
   "source": []
  }
 ],
 "metadata": {
  "kernelspec": {
   "display_name": "Python 3 (ipykernel)",
   "language": "python",
   "name": "python3"
  },
  "language_info": {
   "codemirror_mode": {
    "name": "ipython",
    "version": 3
   },
   "file_extension": ".py",
   "mimetype": "text/x-python",
   "name": "python",
   "nbconvert_exporter": "python",
   "pygments_lexer": "ipython3",
   "version": "3.12.3"
  }
 },
 "nbformat": 4,
 "nbformat_minor": 5
}
