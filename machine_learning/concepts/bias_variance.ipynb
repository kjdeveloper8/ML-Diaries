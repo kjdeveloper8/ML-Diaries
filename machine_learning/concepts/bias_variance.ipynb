{
 "cells": [
  {
   "cell_type": "markdown",
   "id": "00125921-de3c-4933-b273-850893b5c489",
   "metadata": {},
   "source": [
    "## Bias Variance"
   ]
  },
  {
   "cell_type": "markdown",
   "id": "e9425217-d61a-4488-8e6a-0a726360f7e8",
   "metadata": {},
   "source": [
    "- Bias: It is the difference between the predicted values by a model and the actual values, and it represents how much a model’s predictions deviate from the correct values. High bias indicates that the model is underfitting the data, meaning it cannot capture the underlying patterns.\n",
    "  \n",
    "- Variance: It represents the variability of the model’s predictions for different training datasets. High variance indicates that the model is overfitting the data, meaning it memorises the training data and cannot generalise well to new, unseen data."
   ]
  },
  {
   "cell_type": "code",
   "execution_count": 1,
   "id": "89af7856-406f-4fad-91b3-0c817df74e6c",
   "metadata": {},
   "outputs": [],
   "source": [
    "import numpy as np\n",
    "from sklearn.model_selection import train_test_split\n",
    "from sklearn.preprocessing import PolynomialFeatures\n",
    "from sklearn.linear_model import LinearRegression\n",
    "from sklearn.metrics import mean_squared_error"
   ]
  },
  {
   "cell_type": "code",
   "execution_count": 2,
   "id": "e5ef083c-32b2-4016-bb30-a00aaba2c9a4",
   "metadata": {},
   "outputs": [],
   "source": [
    "# Generate some synthetic data with a non-linear relationship\n",
    "np.random.seed(0)\n",
    "x = np.linspace(-5, 5, num=100)\n",
    "y = x ** 3 + np.random.normal(size=100)"
   ]
  },
  {
   "cell_type": "code",
   "execution_count": 3,
   "id": "e5141dd3-75d8-49d4-bdfe-1b5d04dfc357",
   "metadata": {},
   "outputs": [],
   "source": [
    "x_train, x_test, y_train, y_test = train_test_split(x, y, test_size=0.2, random_state=0)"
   ]
  },
  {
   "cell_type": "code",
   "execution_count": 4,
   "id": "737c6aed-d3cb-4c2d-9a69-14670fa78a5b",
   "metadata": {},
   "outputs": [
    {
     "data": {
      "text/plain": [
       "(80,)"
      ]
     },
     "execution_count": 4,
     "metadata": {},
     "output_type": "execute_result"
    }
   ],
   "source": [
    "x_train.shape"
   ]
  },
  {
   "cell_type": "code",
   "execution_count": 6,
   "id": "9b36b0e1-fcf9-493e-8092-8b58cb23b0d6",
   "metadata": {},
   "outputs": [
    {
     "data": {
      "text/plain": [
       "(20,)"
      ]
     },
     "execution_count": 6,
     "metadata": {},
     "output_type": "execute_result"
    }
   ],
   "source": [
    "y_test.shape"
   ]
  },
  {
   "cell_type": "code",
   "execution_count": 8,
   "id": "26c317ab-911e-4040-a934-3779e4a25f0d",
   "metadata": {},
   "outputs": [],
   "source": [
    "# x_train.reshape(-1, 1)"
   ]
  },
  {
   "cell_type": "markdown",
   "id": "a69a5e6e-5688-4d15-b92e-069a06617a69",
   "metadata": {},
   "source": [
    "Consider a polynomial regression models with different degrees of polynomials (1,2,3,4,5)"
   ]
  },
  {
   "cell_type": "code",
   "execution_count": 9,
   "id": "64cc77d0-cdb3-4600-ac54-6b6174211246",
   "metadata": {},
   "outputs": [],
   "source": [
    "degrees = [1, 2, 3, 4, 5]\n",
    "train_errors, test_errors = [], []\n",
    "for degree in degrees:\n",
    "    # transform the features to polynomial features\n",
    "    poly_features = PolynomialFeatures(degree=degree)\n",
    "    x_poly_train = poly_features.fit_transform(x_train.reshape(-1, 1))\n",
    "    x_poly_test = poly_features.transform(x_test.reshape(-1, 1))\n",
    "\n",
    "    # fit the linear regression model to the polynomial features\n",
    "    model = LinearRegression()\n",
    "    model.fit(x_poly_train, y_train)\n",
    "\n",
    "    # evaluate the model on the training and testing data\n",
    "    y_pred_train = model.predict(x_poly_train)\n",
    "    y_pred_test = model.predict(x_poly_test)\n",
    "    train_error = mean_squared_error(y_train, y_pred_train)\n",
    "    test_error = mean_squared_error(y_test, y_pred_test)\n",
    "    train_errors.append(train_error)\n",
    "    test_errors.append(test_error)"
   ]
  },
  {
   "cell_type": "code",
   "execution_count": 10,
   "id": "722766e3-b726-4cb2-9aaa-295d85c9c203",
   "metadata": {},
   "outputs": [
    {
     "data": {
      "text/plain": [
       "np.float64(0.8399674514960214)"
      ]
     },
     "execution_count": 10,
     "metadata": {},
     "output_type": "execute_result"
    }
   ],
   "source": [
    "test_error"
   ]
  },
  {
   "cell_type": "code",
   "execution_count": 11,
   "id": "68c1e317-994c-489c-9537-beb0f4af9f3f",
   "metadata": {},
   "outputs": [
    {
     "data": {
      "text/plain": [
       "[np.float64(367.3606600042872),\n",
       " np.float64(367.8947051019574),\n",
       " np.float64(0.8264371039076593),\n",
       " np.float64(0.8460879311084902),\n",
       " np.float64(0.8399674514960214)]"
      ]
     },
     "execution_count": 11,
     "metadata": {},
     "output_type": "execute_result"
    }
   ],
   "source": [
    "test_errors"
   ]
  },
  {
   "cell_type": "code",
   "execution_count": 12,
   "id": "91211d9b-223d-43ea-a961-c3e57c532ff7",
   "metadata": {},
   "outputs": [
    {
     "data": {
      "text/plain": [
       "np.float64(0.8507069379495789)"
      ]
     },
     "execution_count": 12,
     "metadata": {},
     "output_type": "execute_result"
    }
   ],
   "source": [
    "train_error"
   ]
  },
  {
   "cell_type": "code",
   "execution_count": 13,
   "id": "95b6bf4c-9e5a-4320-9725-026858643d00",
   "metadata": {},
   "outputs": [
    {
     "data": {
      "text/plain": [
       "[np.float64(383.7962422971568),\n",
       " np.float64(383.47137158406036),\n",
       " np.float64(0.8652384023554862),\n",
       " np.float64(0.8625013653765782),\n",
       " np.float64(0.8507069379495789)]"
      ]
     },
     "execution_count": 13,
     "metadata": {},
     "output_type": "execute_result"
    }
   ],
   "source": [
    "train_errors"
   ]
  },
  {
   "cell_type": "markdown",
   "id": "9e109cc8-2487-4c45-87a5-82258a0f9681",
   "metadata": {},
   "source": [
    "##### Plot"
   ]
  },
  {
   "cell_type": "code",
   "execution_count": 14,
   "id": "a27dd193-8465-4f2f-b380-16e8042aca2c",
   "metadata": {},
   "outputs": [],
   "source": [
    "import matplotlib.pyplot as plt"
   ]
  },
  {
   "cell_type": "code",
   "execution_count": 15,
   "id": "b1cf9919-daf0-4c54-9241-72dfe6e722a8",
   "metadata": {},
   "outputs": [
    {
     "data": {
      "image/png": "[encoded data removed]",
      "text/plain": [
       "<Figure size 640x480 with 1 Axes>"
      ]
     },
     "metadata": {},
     "output_type": "display_data"
    }
   ],
   "source": [
    "plt.plot(degrees, train_errors, label='Training error')\n",
    "plt.plot(degrees, test_errors, label='Testing error')\n",
    "plt.legend()\n",
    "plt.xlabel('Degree of polynomial')\n",
    "plt.ylabel('Mean squared error')\n",
    "plt.show()"
   ]
  },
  {
   "cell_type": "markdown",
   "id": "ab07a6df-0996-4d44-bc35-c2fa31e12670",
   "metadata": {},
   "source": [
    "Plot shows that the training error decreases as the degree of polynomial increases, indicating that the model becomes more complex and better fits the training data"
   ]
  }
 ],
 "metadata": {
  "kernelspec": {
   "display_name": "Python 3 (ipykernel)",
   "language": "python",
   "name": "python3"
  },
  "language_info": {
   "codemirror_mode": {
    "name": "ipython",
    "version": 3
   },
   "file_extension": ".py",
   "mimetype": "text/x-python",
   "name": "python",
   "nbconvert_exporter": "python",
   "pygments_lexer": "ipython3",
   "version": "3.12.3"
  }
 },
 "nbformat": 4,
 "nbformat_minor": 5
}
